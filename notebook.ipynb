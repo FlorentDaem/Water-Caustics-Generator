{
 "cells": [
  {
   "cell_type": "markdown",
   "metadata": {},
   "source": [
    "# Notebook | PhyNum : motifs au fond d'une piscine"
   ]
  },
  {
   "cell_type": "markdown",
   "metadata": {},
   "source": [
    "## Import"
   ]
  },
  {
   "cell_type": "code",
   "execution_count": 1,
   "metadata": {},
   "outputs": [],
   "source": [
    "from surface import *\n",
    "\n",
    "import cProfile\n",
    "import pstats\n",
    "\n",
    "profiler = cProfile.Profile()\n",
    "\n"
   ]
  },
  {
   "cell_type": "markdown",
   "metadata": {},
   "source": [
    "## Initialisations"
   ]
  },
  {
   "cell_type": "code",
   "execution_count": 2,
   "metadata": {},
   "outputs": [],
   "source": [
    "direction = np.array([0, 0, -1])  # direction de la lumière\n",
    "\n",
    "\n",
    "rayons = []\n",
    "for i in range(Nx-1):\n",
    "    rayons.append([])\n",
    "    for j in range(Ny-1):\n",
    "        rayons[i].append(Rayon(np.array([(i+1/2)*dx, (j+1/2)*dy, 2*H]), direction, 1))\n"
   ]
  },
  {
   "attachments": {},
   "cell_type": "markdown",
   "metadata": {},
   "source": [
    "### Spectre de Phillips"
   ]
  },
  {
   "cell_type": "code",
   "execution_count": 3,
   "metadata": {},
   "outputs": [
    {
     "data": {
      "image/png": "[encoded data removed]",
      "text/plain": [
       "<Figure size 432x288 with 1 Axes>"
      ]
     },
     "metadata": {
      "needs_background": "light"
     },
     "output_type": "display_data"
    }
   ],
   "source": [
    "vals_kx = np.linspace(0, 0.5, 200)\n",
    "spectre = [spectre_Phillips(kx, 0) for kx in vals_kx]\n",
    "\n",
    "plt.xlim(0, 0.5)\n",
    "plt.ylim(0, 6)\n",
    "\n",
    "plt.xlabel(r\"Vecteur d'onde $k$ (en m$^{-1})$\")\n",
    "plt.ylabel(r\"Spectre de Phillips (USI)\")\n",
    "\n",
    "plt.plot(vals_kx, spectre)\n",
    "plt.savefig(\"spectre Phillips.pdf\")\n",
    "plt.show()\n"
   ]
  },
  {
   "cell_type": "markdown",
   "metadata": {},
   "source": [
    "### Surface initiale"
   ]
  },
  {
   "cell_type": "code",
   "execution_count": 4,
   "metadata": {},
   "outputs": [
    {
     "ename": "IndexError",
     "evalue": "too many indices for array: array is 1-dimensional, but 2 were indexed",
     "output_type": "error",
     "traceback": [
      "\u001b[1;31m---------------------------------------------------------------------------\u001b[0m",
      "\u001b[1;31mIndexError\u001b[0m                                Traceback (most recent call last)",
      "\u001b[1;32m~\\AppData\\Local\\Temp\\ipykernel_2620\\1050063927.py\u001b[0m in \u001b[0;36m<module>\u001b[1;34m\u001b[0m\n\u001b[0;32m     12\u001b[0m \u001b[1;33m\u001b[0m\u001b[0m\n\u001b[0;32m     13\u001b[0m \u001b[1;33m\u001b[0m\u001b[0m\n\u001b[1;32m---> 14\u001b[1;33m \u001b[0mupdate_surface\u001b[0m\u001b[1;33m(\u001b[0m\u001b[0msurface\u001b[0m\u001b[1;33m,\u001b[0m \u001b[1;36m0\u001b[0m\u001b[1;33m,\u001b[0m \u001b[0mamplitude_fourier_plus\u001b[0m\u001b[1;33m,\u001b[0m \u001b[0mB\u001b[0m\u001b[1;33m)\u001b[0m\u001b[1;33m\u001b[0m\u001b[1;33m\u001b[0m\u001b[0m\n\u001b[0m",
      "\u001b[1;32mc:\\Users\\Florent\\Documents\\Travail\\M1 Physique (mag 2)\\Cours\\PhyNum\\PhyNum Projet\\PhyNum-Piscine\\surface.py\u001b[0m in \u001b[0;36mupdate_surface\u001b[1;34m(surface, t, amplitude_fourier_plus, amplitude_fourier_moins)\u001b[0m\n\u001b[0;32m    198\u001b[0m         \u001b[0mAmplitude\u001b[0m \u001b[0mde\u001b[0m \u001b[0mFourier\u001b[0m \u001b[0mselon\u001b[0m \u001b[1;33m-\u001b[0m\u001b[0momega\u001b[0m\u001b[1;33m.\u001b[0m\u001b[1;33m\u001b[0m\u001b[1;33m\u001b[0m\u001b[0m\n\u001b[0;32m    199\u001b[0m     \"\"\"\n\u001b[1;32m--> 200\u001b[1;33m     \u001b[0msurface_dans_fourier\u001b[0m \u001b[1;33m=\u001b[0m \u001b[0msurface_fourier\u001b[0m\u001b[1;33m(\u001b[0m\u001b[0mt\u001b[0m\u001b[1;33m,\u001b[0m \u001b[0mamplitude_fourier_plus\u001b[0m\u001b[1;33m,\u001b[0m \u001b[0mamplitude_fourier_moins\u001b[0m\u001b[1;33m)\u001b[0m\u001b[1;33m[\u001b[0m\u001b[1;33m:\u001b[0m\u001b[1;33m,\u001b[0m \u001b[1;33m:\u001b[0m\u001b[1;33m]\u001b[0m\u001b[1;33m\u001b[0m\u001b[1;33m\u001b[0m\u001b[0m\n\u001b[0m\u001b[0;32m    201\u001b[0m     \u001b[0msurface\u001b[0m\u001b[1;33m[\u001b[0m\u001b[1;33m:\u001b[0m\u001b[1;33m,\u001b[0m \u001b[1;33m:\u001b[0m\u001b[1;33m]\u001b[0m \u001b[1;33m=\u001b[0m \u001b[0mH\u001b[0m \u001b[1;33m+\u001b[0m \u001b[0mfacteur_shift\u001b[0m\u001b[1;33m[\u001b[0m\u001b[1;33m:\u001b[0m\u001b[1;33m,\u001b[0m\u001b[1;33m:\u001b[0m\u001b[1;33m]\u001b[0m \u001b[1;33m*\u001b[0m\u001b[0mnp\u001b[0m\u001b[1;33m.\u001b[0m\u001b[0mreal\u001b[0m\u001b[1;33m(\u001b[0m\u001b[0mnp\u001b[0m\u001b[1;33m.\u001b[0m\u001b[0mfft\u001b[0m\u001b[1;33m.\u001b[0m\u001b[0mifft2\u001b[0m\u001b[1;33m(\u001b[0m\u001b[0msurface_dans_fourier\u001b[0m\u001b[1;33m,\u001b[0m \u001b[0mnorm\u001b[0m\u001b[1;33m=\u001b[0m\u001b[1;34m\"forward\"\u001b[0m\u001b[1;33m)\u001b[0m\u001b[1;33m)\u001b[0m\u001b[1;33m\u001b[0m\u001b[1;33m\u001b[0m\u001b[0m\n\u001b[0;32m    202\u001b[0m \u001b[1;33m\u001b[0m\u001b[0m\n",
      "\u001b[1;32mc:\\Users\\Florent\\Documents\\Travail\\M1 Physique (mag 2)\\Cours\\PhyNum\\PhyNum Projet\\PhyNum-Piscine\\surface.py\u001b[0m in \u001b[0;36msurface_fourier\u001b[1;34m(t, amplitude_fourier_plus, amplitude_fourier_moins)\u001b[0m\n\u001b[0;32m    179\u001b[0m         \u001b[0mSurface\u001b[0m \u001b[0mdans\u001b[0m \u001b[0ml\u001b[0m\u001b[0;31m'\u001b[0m\u001b[0mespace\u001b[0m \u001b[0mde\u001b[0m \u001b[0mFourier\u001b[0m\u001b[1;33m.\u001b[0m\u001b[1;33m\u001b[0m\u001b[1;33m\u001b[0m\u001b[0m\n\u001b[0;32m    180\u001b[0m     \"\"\"\n\u001b[1;32m--> 181\u001b[1;33m     \u001b[0monde_plus\u001b[0m \u001b[1;33m=\u001b[0m \u001b[0mamplitude_fourier_moins\u001b[0m\u001b[1;33m[\u001b[0m\u001b[1;33m:\u001b[0m\u001b[1;33m,\u001b[0m \u001b[1;33m:\u001b[0m\u001b[1;33m]\u001b[0m\u001b[1;33m*\u001b[0m\u001b[0mnp\u001b[0m\u001b[1;33m.\u001b[0m\u001b[0mexp\u001b[0m\u001b[1;33m(\u001b[0m\u001b[1;36m1j\u001b[0m\u001b[1;33m*\u001b[0m\u001b[1;33m(\u001b[0m\u001b[1;33m+\u001b[0m \u001b[0mOMEGA\u001b[0m\u001b[1;33m[\u001b[0m\u001b[1;33m:\u001b[0m\u001b[1;33m,\u001b[0m \u001b[1;33m:\u001b[0m\u001b[1;33m]\u001b[0m\u001b[1;33m*\u001b[0m\u001b[0mt\u001b[0m\u001b[1;33m)\u001b[0m\u001b[1;33m)\u001b[0m\u001b[1;33m\u001b[0m\u001b[1;33m\u001b[0m\u001b[0m\n\u001b[0m\u001b[0;32m    182\u001b[0m     \u001b[0monde_moins\u001b[0m \u001b[1;33m=\u001b[0m \u001b[0mamplitude_fourier_plus\u001b[0m\u001b[1;33m[\u001b[0m\u001b[1;33m:\u001b[0m\u001b[1;33m,\u001b[0m \u001b[1;33m:\u001b[0m\u001b[1;33m]\u001b[0m\u001b[1;33m*\u001b[0m\u001b[0mnp\u001b[0m\u001b[1;33m.\u001b[0m\u001b[0mexp\u001b[0m\u001b[1;33m(\u001b[0m\u001b[1;36m1j\u001b[0m\u001b[1;33m*\u001b[0m\u001b[1;33m(\u001b[0m\u001b[1;33m-\u001b[0m \u001b[0mOMEGA\u001b[0m\u001b[1;33m[\u001b[0m\u001b[1;33m:\u001b[0m\u001b[1;33m,\u001b[0m \u001b[1;33m:\u001b[0m\u001b[1;33m]\u001b[0m\u001b[1;33m*\u001b[0m\u001b[0mt\u001b[0m\u001b[1;33m)\u001b[0m\u001b[1;33m)\u001b[0m\u001b[1;33m\u001b[0m\u001b[1;33m\u001b[0m\u001b[0m\n\u001b[0;32m    183\u001b[0m     \u001b[1;32mreturn\u001b[0m  \u001b[1;33m(\u001b[0m\u001b[0monde_moins\u001b[0m \u001b[1;33m+\u001b[0m \u001b[0monde_plus\u001b[0m\u001b[1;33m)\u001b[0m\u001b[1;33m\u001b[0m\u001b[1;33m\u001b[0m\u001b[0m\n",
      "\u001b[1;31mIndexError\u001b[0m: too many indices for array: array is 1-dimensional, but 2 were indexed"
     ]
    }
   ],
   "source": [
    "surface = np.zeros((Nx, Ny))\n",
    "amplitude_fourier_plus = np.zeros((Nx, Ny), dtype=complex)\n",
    "B = np.zeros((Nx, Ny), dtype=complex)\n",
    "\n",
    "for i in range(Nx):\n",
    "    for j in range(Ny):\n",
    "        kx = (i-Nx/2)*dkx\n",
    "        ky = (j-Ny/2)*dky\n",
    "        amplitude_fourier_plus[i, j] = random_amplitude_fourier_plus(kx, ky, spectre_Phillips, np.array([1, 0]))\n",
    "\n",
    "        B[i, j] = np.conjugate(amplitude_fourier_plus[-i, -j])\n",
    "\n",
    "\n",
    "update_surface(surface, 0, amplitude_fourier_plus, B)\n"
   ]
  },
  {
   "cell_type": "markdown",
   "metadata": {},
   "source": [
    "## Calculs"
   ]
  },
  {
   "cell_type": "code",
   "execution_count": null,
   "metadata": {},
   "outputs": [
    {
     "name": "stderr",
     "output_type": "stream",
     "text": [
      "Calcul des trajectoires : 100%|██████████| 127/127 [00:07<00:00, 16.92it/s]\n"
     ]
    }
   ],
   "source": [
    "profiler.enable()\n",
    "\n",
    "trajectoires = calcul_trajectoires(rayons, surface, 0, amplitude_fourier_plus, B)\n",
    "\n",
    "profiler.disable()\n",
    "\n"
   ]
  },
  {
   "attachments": {},
   "cell_type": "markdown",
   "metadata": {},
   "source": [
    "### Profiling"
   ]
  },
  {
   "cell_type": "code",
   "execution_count": null,
   "metadata": {},
   "outputs": [
    {
     "name": "stdout",
     "output_type": "stream",
     "text": [
      "         7634117 function calls (7343752 primitive calls) in 8.946 seconds\n",
      "\n",
      "   Ordered by: cumulative time\n",
      "\n",
      "   ncalls  tottime  percall  cumtime  percall filename:lineno(function)\n",
      "        2    0.000    0.000    8.946    4.473 c:\\Users\\Florent\\AppData\\Local\\Programs\\Python\\Python38\\lib\\site-packages\\IPython\\core\\interactiveshell.py:3403(run_code)\n",
      "      8/2    0.000    0.000    8.946    4.473 {built-in method builtins.exec}\n",
      "        1    0.000    0.000    8.946    8.946 C:\\Users\\Florent\\AppData\\Local\\Temp\\ipykernel_10716\\3633937949.py:3(<module>)\n",
      "        1    0.058    0.058    8.946    8.946 c:\\Users\\Florent\\Documents\\Travail\\M1 Physique (mag 2)\\Cours\\PhyNum\\PhyNum Projet\\PhyNum-Piscine\\surface.py:24(calcul_trajectoires)\n",
      "    32258    0.102    0.000    6.467    0.000 c:\\Users\\Florent\\Documents\\Travail\\M1 Physique (mag 2)\\Cours\\PhyNum\\PhyNum Projet\\PhyNum-Piscine\\raytracing.py:320(find_point_intersection)\n",
      "    32258    0.078    0.000    6.179    0.000 c:\\Users\\Florent\\Documents\\Travail\\M1 Physique (mag 2)\\Cours\\PhyNum\\PhyNum Projet\\PhyNum-Piscine\\raytracing.py:260(find_point_intersection)\n",
      "    32258    0.219    0.000    5.960    0.000 c:\\Users\\Florent\\AppData\\Local\\Programs\\Python\\Python38\\lib\\site-packages\\scipy\\optimize\\_root_scalar.py:61(root_scalar)\n",
      "    32258    0.397    0.000    5.529    0.000 c:\\Users\\Florent\\AppData\\Local\\Programs\\Python\\Python38\\lib\\site-packages\\scipy\\optimize\\_zeros_py.py:94(newton)\n",
      "709676/419354    1.131    0.000    5.170    0.000 {built-in method numpy.core._multiarray_umath.implement_array_function}\n",
      "    64516    0.055    0.000    3.167    0.000 <__array_function__ internals>:177(isclose)\n",
      "    64516    0.297    0.000    2.977    0.000 c:\\Users\\Florent\\AppData\\Local\\Programs\\Python\\Python38\\lib\\site-packages\\numpy\\core\\numeric.py:2259(isclose)\n",
      "    96774    0.060    0.000    1.715    0.000 c:\\Users\\Florent\\Documents\\Travail\\M1 Physique (mag 2)\\Cours\\PhyNum\\PhyNum Projet\\PhyNum-Piscine\\raytracing.py:281(<lambda>)\n",
      "    96774    0.263    0.000    1.655    0.000 c:\\Users\\Florent\\Documents\\Travail\\M1 Physique (mag 2)\\Cours\\PhyNum\\PhyNum Projet\\PhyNum-Piscine\\raytracing.py:223(test_intersection)\n",
      "        1    0.024    0.024    1.428    1.428 c:\\Users\\Florent\\Documents\\Travail\\M1 Physique (mag 2)\\Cours\\PhyNum\\PhyNum Projet\\PhyNum-Piscine\\raytracing.py:200(vecteurs_normaux_surface)\n",
      "    16129    0.144    0.000    1.391    0.000 c:\\Users\\Florent\\Documents\\Travail\\M1 Physique (mag 2)\\Cours\\PhyNum\\PhyNum Projet\\PhyNum-Piscine\\raytracing.py:189(vecteur_normal_ij)\n",
      "   129032    0.085    0.000    1.259    0.000 <__array_function__ internals>:177(all)\n",
      "    64516    0.459    0.000    1.181    0.000 c:\\Users\\Florent\\AppData\\Local\\Programs\\Python\\Python38\\lib\\site-packages\\numpy\\core\\numeric.py:2340(within_tol)\n",
      "   129032    0.121    0.000    0.995    0.000 c:\\Users\\Florent\\AppData\\Local\\Programs\\Python\\Python38\\lib\\site-packages\\numpy\\core\\fromnumeric.py:2404(all)\n",
      "    16129    0.013    0.000    0.952    0.000 <__array_function__ internals>:177(cross)\n",
      "    16129    0.299    0.000    0.919    0.000 c:\\Users\\Florent\\AppData\\Local\\Programs\\Python\\Python38\\lib\\site-packages\\numpy\\core\\numeric.py:1479(cross)\n",
      "   129032    0.250    0.000    0.874    0.000 c:\\Users\\Florent\\AppData\\Local\\Programs\\Python\\Python38\\lib\\site-packages\\numpy\\core\\fromnumeric.py:69(_wrapreduction)\n",
      "   306451    0.188    0.000    0.864    0.000 <__array_function__ internals>:177(dot)\n",
      "    16129    0.036    0.000    0.750    0.000 c:\\Users\\Florent\\Documents\\Travail\\M1 Physique (mag 2)\\Cours\\PhyNum\\PhyNum Projet\\PhyNum-Piscine\\raytracing.py:316(refract)\n",
      "    48387    0.032    0.000    0.577    0.000 <__array_function__ internals>:177(moveaxis)\n",
      "   129032    0.165    0.000    0.528    0.000 {method 'all' of 'numpy.generic' objects}\n",
      "    48387    0.037    0.000    0.525    0.000 <__array_function__ internals>:177(norm)\n",
      "   129032    0.524    0.000    0.524    0.000 c:\\Users\\Florent\\Documents\\Travail\\M1 Physique (mag 2)\\Cours\\PhyNum\\PhyNum Projet\\PhyNum-Piscine\\raytracing.py:310(point_rayon)\n",
      "   129032    0.227    0.000    0.522    0.000 c:\\Users\\Florent\\AppData\\Local\\Programs\\Python\\Python38\\lib\\site-packages\\numpy\\core\\_ufunc_config.py:32(seterr)\n",
      "    48387    0.168    0.000    0.504    0.000 c:\\Users\\Florent\\AppData\\Local\\Programs\\Python\\Python38\\lib\\site-packages\\numpy\\core\\numeric.py:1404(moveaxis)\n",
      "    48387    0.143    0.000    0.503    0.000 c:\\Users\\Florent\\Documents\\Travail\\M1 Physique (mag 2)\\Cours\\PhyNum\\PhyNum Projet\\PhyNum-Piscine\\raytracing.py:146(indices_du_point)\n",
      "    16129    0.177    0.000    0.448    0.000 c:\\Users\\Florent\\Documents\\Travail\\M1 Physique (mag 2)\\Cours\\PhyNum\\PhyNum Projet\\PhyNum-Piscine\\raytracing.py:104(refract)\n",
      "    48387    0.236    0.000    0.440    0.000 c:\\Users\\Florent\\AppData\\Local\\Programs\\Python\\Python38\\lib\\site-packages\\numpy\\linalg\\linalg.py:2349(norm)\n",
      "   129032    0.050    0.000    0.363    0.000 c:\\Users\\Florent\\AppData\\Local\\Programs\\Python\\Python38\\lib\\site-packages\\numpy\\core\\_methods.py:60(_all)\n",
      "    64516    0.054    0.000    0.354    0.000 c:\\Users\\Florent\\AppData\\Local\\Programs\\Python\\Python38\\lib\\site-packages\\numpy\\core\\_ufunc_config.py:429(__enter__)\n",
      "   129032    0.313    0.000    0.313    0.000 {method 'reduce' of 'numpy.ufunc' objects}\n",
      "    64516    0.053    0.000    0.274    0.000 c:\\Users\\Florent\\AppData\\Local\\Programs\\Python\\Python38\\lib\\site-packages\\numpy\\core\\_ufunc_config.py:434(__exit__)\n",
      "   290323    0.274    0.000    0.274    0.000 {built-in method numpy.array}\n",
      "    16129    0.220    0.000    0.266    0.000 c:\\Users\\Florent\\Documents\\Travail\\M1 Physique (mag 2)\\Cours\\PhyNum\\PhyNum Projet\\PhyNum-Piscine\\raytracing.py:165(coeff_reflection)\n",
      "    96774    0.173    0.000    0.256    0.000 c:\\Users\\Florent\\AppData\\Local\\Programs\\Python\\Python38\\lib\\site-packages\\numpy\\core\\numeric.py:1341(normalize_axis_tuple)\n",
      "   129032    0.184    0.000    0.201    0.000 c:\\Users\\Florent\\AppData\\Local\\Programs\\Python\\Python38\\lib\\site-packages\\numpy\\core\\_ufunc_config.py:131(geterr)\n",
      "    16129    0.050    0.000    0.182    0.000 c:\\Users\\Florent\\Documents\\Travail\\M1 Physique (mag 2)\\Cours\\PhyNum\\PhyNum Projet\\PhyNum-Piscine\\affichages.py:8(indices_du_point)\n",
      "   145161    0.162    0.000    0.162    0.000 c:\\Users\\Florent\\Documents\\Travail\\M1 Physique (mag 2)\\Cours\\PhyNum\\PhyNum Projet\\PhyNum-Piscine\\raytracing.py:10(vec)\n",
      "    64516    0.044    0.000    0.154    0.000 <__array_function__ internals>:177(result_type)\n",
      "    96774    0.153    0.000    0.153    0.000 {built-in method builtins.locals}\n",
      "    32258    0.024    0.000    0.147    0.000 <__array_function__ internals>:177(size)\n",
      "    32258    0.067    0.000    0.095    0.000 c:\\Users\\Florent\\AppData\\Local\\Programs\\Python\\Python38\\lib\\site-packages\\numpy\\core\\fromnumeric.py:3206(size)\n",
      "   322647    0.092    0.000    0.092    0.000 {built-in method builtins.abs}\n",
      "   193548    0.086    0.000    0.086    0.000 {built-in method numpy.asanyarray}\n",
      "    32258    0.045    0.000    0.073    0.000 c:\\Users\\Florent\\AppData\\Local\\Programs\\Python\\Python38\\lib\\site-packages\\scipy\\optimize\\_zeros_py.py:82(_results_select)\n",
      "    16129    0.070    0.000    0.070    0.000 c:\\Users\\Florent\\Documents\\Travail\\M1 Physique (mag 2)\\Cours\\PhyNum\\PhyNum Projet\\PhyNum-Piscine\\raytracing.py:87(cos_theta_refract)\n",
      "   129032    0.063    0.000    0.063    0.000 {built-in method numpy.seterrobj}\n",
      "    48387    0.059    0.000    0.059    0.000 {built-in method numpy.zeros}\n",
      "   129032    0.057    0.000    0.057    0.000 c:\\Users\\Florent\\AppData\\Local\\Programs\\Python\\Python38\\lib\\site-packages\\numpy\\core\\fromnumeric.py:70(<dictcomp>)\n",
      "    96774    0.035    0.000    0.053    0.000 c:\\Users\\Florent\\AppData\\Local\\Programs\\Python\\Python38\\lib\\site-packages\\numpy\\core\\numeric.py:1391(<listcomp>)\n",
      "      128    0.000    0.000    0.052    0.000 c:\\Users\\Florent\\AppData\\Local\\Programs\\Python\\Python38\\lib\\site-packages\\tqdm\\std.py:1159(__iter__)\n",
      "       63    0.001    0.000    0.051    0.001 c:\\Users\\Florent\\AppData\\Local\\Programs\\Python\\Python38\\lib\\site-packages\\tqdm\\std.py:1197(update)\n",
      "       64    0.000    0.000    0.050    0.001 c:\\Users\\Florent\\AppData\\Local\\Programs\\Python\\Python38\\lib\\site-packages\\tqdm\\std.py:1324(refresh)\n",
      "       65    0.000    0.000    0.050    0.001 c:\\Users\\Florent\\AppData\\Local\\Programs\\Python\\Python38\\lib\\site-packages\\tqdm\\std.py:1463(display)\n",
      "   258064    0.047    0.000    0.047    0.000 {built-in method numpy.geterrobj}\n",
      "       65    0.000    0.000    0.044    0.001 c:\\Users\\Florent\\AppData\\Local\\Programs\\Python\\Python38\\lib\\site-packages\\tqdm\\std.py:348(print_status)\n",
      "   306451    0.043    0.000    0.043    0.000 c:\\Users\\Florent\\AppData\\Local\\Programs\\Python\\Python38\\lib\\site-packages\\numpy\\core\\multiarray.py:736(dot)\n",
      "   112903    0.041    0.000    0.041    0.000 {built-in method numpy.asarray}\n",
      "       65    0.000    0.000    0.040    0.001 c:\\Users\\Florent\\AppData\\Local\\Programs\\Python\\Python38\\lib\\site-packages\\tqdm\\std.py:342(fp_write)\n",
      "      132    0.000    0.000    0.040    0.000 c:\\Users\\Florent\\AppData\\Local\\Programs\\Python\\Python38\\lib\\site-packages\\tqdm\\utils.py:143(inner)\n",
      "       67    0.001    0.000    0.036    0.001 c:\\Users\\Florent\\AppData\\Local\\Programs\\Python\\Python38\\lib\\site-packages\\ipykernel\\iostream.py:470(flush)\n",
      "       68    0.001    0.000    0.033    0.000 c:\\Users\\Florent\\AppData\\Local\\Programs\\Python\\Python38\\lib\\threading.py:540(wait)\n",
      "       68    0.000    0.000    0.033    0.000 c:\\Users\\Florent\\AppData\\Local\\Programs\\Python\\Python38\\lib\\threading.py:270(wait)\n",
      "      539    0.032    0.000    0.032    0.000 {method 'acquire' of '_thread.lock' objects}\n",
      "    48387    0.030    0.000    0.030    0.000 {method 'transpose' of 'numpy.ndarray' objects}\n",
      "   161383    0.030    0.000    0.030    0.000 {built-in method builtins.getattr}\n",
      "   145161    0.029    0.000    0.029    0.000 {built-in method numpy.core._multiarray_umath.normalize_axis_index}\n",
      "   306640    0.028    0.000    0.028    0.000 {built-in method builtins.len}\n",
      "    32258    0.028    0.000    0.028    0.000 c:\\Users\\Florent\\AppData\\Local\\Programs\\Python\\Python38\\lib\\site-packages\\scipy\\optimize\\_zeros_py.py:51(__init__)\n",
      "    48387    0.026    0.000    0.026    0.000 {method 'ravel' of 'numpy.ndarray' objects}\n",
      "    64516    0.026    0.000    0.026    0.000 c:\\Users\\Florent\\AppData\\Local\\Programs\\Python\\Python38\\lib\\site-packages\\numpy\\core\\_ufunc_config.py:425(__init__)\n",
      "    48387    0.024    0.000    0.024    0.000 {built-in method builtins.sorted}\n",
      "    48387    0.016    0.000    0.022    0.000 c:\\Users\\Florent\\AppData\\Local\\Programs\\Python\\Python38\\lib\\site-packages\\numpy\\linalg\\linalg.py:116(isComplexType)\n",
      "   129049    0.020    0.000    0.020    0.000 {method 'get' of 'dict' objects}\n",
      "   129032    0.019    0.000    0.019    0.000 c:\\Users\\Florent\\AppData\\Local\\Programs\\Python\\Python38\\lib\\site-packages\\numpy\\core\\fromnumeric.py:2399(_all_dispatcher)\n",
      "    32324    0.019    0.000    0.019    0.000 {method 'update' of 'dict' objects}\n",
      "   129035    0.018    0.000    0.018    0.000 {method 'items' of 'dict' objects}\n",
      "   129032    0.018    0.000    0.018    0.000 {built-in method _operator.index}\n",
      "    96774    0.016    0.000    0.016    0.000 {built-in method builtins.issubclass}\n",
      "    48387    0.011    0.000    0.011    0.000 c:\\Users\\Florent\\AppData\\Local\\Programs\\Python\\Python38\\lib\\site-packages\\numpy\\core\\numeric.py:1466(<listcomp>)\n",
      "    16129    0.010    0.000    0.010    0.000 {built-in method numpy.empty}\n",
      "    64516    0.010    0.000    0.010    0.000 c:\\Users\\Florent\\AppData\\Local\\Programs\\Python\\Python38\\lib\\site-packages\\numpy\\core\\numeric.py:2255(_isclose_dispatcher)\n",
      "    64516    0.009    0.000    0.009    0.000 c:\\Users\\Florent\\AppData\\Local\\Programs\\Python\\Python38\\lib\\site-packages\\numpy\\core\\multiarray.py:664(result_type)\n",
      "    48387    0.008    0.000    0.008    0.000 c:\\Users\\Florent\\AppData\\Local\\Programs\\Python\\Python38\\lib\\site-packages\\numpy\\linalg\\linalg.py:2345(_norm_dispatcher)\n",
      "    48387    0.008    0.000    0.008    0.000 c:\\Users\\Florent\\AppData\\Local\\Programs\\Python\\Python38\\lib\\site-packages\\numpy\\core\\numeric.py:1400(_moveaxis_dispatcher)\n",
      "        1    0.000    0.000    0.008    0.008 c:\\Users\\Florent\\AppData\\Local\\Programs\\Python\\Python38\\lib\\site-packages\\tqdm\\std.py:560(__new__)\n",
      "    48387    0.007    0.000    0.007    0.000 {method 'insert' of 'list' objects}\n",
      "    16129    0.007    0.000    0.007    0.000 {built-in method numpy.promote_types}\n",
      "        1    0.000    0.000    0.007    0.007 c:\\Users\\Florent\\AppData\\Local\\Programs\\Python\\Python38\\lib\\site-packages\\tqdm\\std.py:657(get_lock)\n",
      "        1    0.000    0.000    0.007    0.007 c:\\Users\\Florent\\AppData\\Local\\Programs\\Python\\Python38\\lib\\site-packages\\tqdm\\std.py:92(__init__)\n",
      "        1    0.000    0.000    0.007    0.007 c:\\Users\\Florent\\AppData\\Local\\Programs\\Python\\Python38\\lib\\site-packages\\tqdm\\std.py:118(create_mp_lock)\n",
      "      7/2    0.000    0.000    0.007    0.004 <frozen importlib._bootstrap>:986(_find_and_load)\n",
      "      7/2    0.000    0.000    0.007    0.004 <frozen importlib._bootstrap>:956(_find_and_load_unlocked)\n",
      "      7/2    0.000    0.000    0.006    0.003 <frozen importlib._bootstrap>:650(_load_unlocked)\n",
      "    32302    0.006    0.000    0.006    0.000 {method 'lower' of 'str' objects}\n",
      "      6/2    0.000    0.000    0.006    0.003 <frozen importlib._bootstrap_external>:777(exec_module)\n",
      "    32258    0.005    0.000    0.005    0.000 c:\\Users\\Florent\\AppData\\Local\\Programs\\Python\\Python38\\lib\\site-packages\\numpy\\core\\fromnumeric.py:3202(_size_dispatcher)\n",
      "       65    0.000    0.000    0.005    0.000 c:\\Users\\Florent\\AppData\\Local\\Programs\\Python\\Python38\\lib\\site-packages\\tqdm\\std.py:1149(__str__)\n",
      "     13/2    0.000    0.000    0.005    0.003 <frozen importlib._bootstrap>:211(_call_with_frames_removed)\n",
      "    32498    0.005    0.000    0.005    0.000 {built-in method builtins.isinstance}\n",
      "      200    0.001    0.000    0.005    0.000 c:\\Users\\Florent\\AppData\\Local\\Programs\\Python\\Python38\\lib\\site-packages\\ipykernel\\iostream.py:209(schedule)\n",
      "       65    0.002    0.000    0.005    0.000 c:\\Users\\Florent\\AppData\\Local\\Programs\\Python\\Python38\\lib\\site-packages\\tqdm\\std.py:355(format_meter)\n",
      "       67    0.000    0.000    0.004    0.000 c:\\Users\\Florent\\AppData\\Local\\Programs\\Python\\Python38\\lib\\site-packages\\ipykernel\\iostream.py:525(write)\n",
      "     10/6    0.000    0.000    0.004    0.001 <frozen importlib._bootstrap>:1017(_handle_fromlist)\n",
      "      5/2    0.000    0.000    0.004    0.002 {built-in method builtins.__import__}\n",
      "       67    0.000    0.000    0.004    0.000 c:\\Users\\Florent\\AppData\\Local\\Programs\\Python\\Python38\\lib\\site-packages\\ipykernel\\iostream.py:455(_schedule_flush)\n",
      "    16256    0.004    0.000    0.004    0.000 {method 'append' of 'list' objects}\n",
      "      200    0.004    0.000    0.004    0.000 c:\\Users\\Florent\\AppData\\Local\\Programs\\Python\\Python38\\lib\\site-packages\\zmq\\sugar\\socket.py:540(send)\n",
      "        1    0.000    0.000    0.003    0.003 c:\\Users\\Florent\\AppData\\Local\\Programs\\Python\\Python38\\lib\\multiprocessing\\context.py:70(RLock)\n",
      "       65    0.000    0.000    0.003    0.000 c:\\Users\\Florent\\AppData\\Local\\Programs\\Python\\Python38\\lib\\site-packages\\tqdm\\utils.py:333(disp_len)\n",
      "        6    0.000    0.000    0.003    0.001 <frozen importlib._bootstrap_external>:849(get_code)\n",
      "    16129    0.003    0.000    0.003    0.000 c:\\Users\\Florent\\AppData\\Local\\Programs\\Python\\Python38\\lib\\site-packages\\numpy\\core\\numeric.py:1475(_cross_dispatcher)\n",
      "       65    0.000    0.000    0.003    0.000 c:\\Users\\Florent\\AppData\\Local\\Programs\\Python\\Python38\\lib\\site-packages\\tqdm\\utils.py:329(_text_width)\n",
      "        1    0.000    0.000    0.003    0.003 c:\\Users\\Florent\\AppData\\Local\\Programs\\Python\\Python38\\lib\\multiprocessing\\__init__.py:15(<module>)\n",
      "       65    0.001    0.000    0.003    0.000 {built-in method builtins.sum}\n",
      "        1    0.000    0.000    0.003    0.003 c:\\Users\\Florent\\AppData\\Local\\Programs\\Python\\Python38\\lib\\multiprocessing\\synchronize.py:11(<module>)\n",
      "        6    0.000    0.000    0.002    0.000 <frozen importlib._bootstrap_external>:969(get_data)\n",
      "     4877    0.001    0.000    0.002    0.000 c:\\Users\\Florent\\AppData\\Local\\Programs\\Python\\Python38\\lib\\site-packages\\tqdm\\utils.py:330(<genexpr>)\n",
      "        1    0.000    0.000    0.002    0.002 c:\\Users\\Florent\\AppData\\Local\\Programs\\Python\\Python38\\lib\\multiprocessing\\context.py:1(<module>)\n",
      "        6    0.002    0.000    0.002    0.000 {built-in method io.open_code}\n",
      "        7    0.000    0.000    0.002    0.000 <frozen importlib._bootstrap>:890(_find_spec)\n",
      "        7    0.000    0.000    0.002    0.000 <frozen importlib._bootstrap_external>:1334(find_spec)\n",
      "        7    0.000    0.000    0.002    0.000 <frozen importlib._bootstrap_external>:1302(_get_spec)\n",
      "        1    0.000    0.000    0.002    0.002 c:\\Users\\Florent\\AppData\\Local\\Programs\\Python\\Python38\\lib\\site-packages\\tqdm\\std.py:846(__init__)\n",
      "       10    0.000    0.000    0.001    0.000 <frozen importlib._bootstrap_external>:1431(find_spec)\n",
      "      543    0.001    0.000    0.001    0.000 {method 'format' of 'str' objects}\n",
      "       27    0.000    0.000    0.001    0.000 <frozen importlib._bootstrap_external>:80(_path_stat)\n",
      "       27    0.001    0.000    0.001    0.000 {built-in method nt.stat}\n",
      "        7    0.000    0.000    0.001    0.000 <frozen importlib._bootstrap>:549(module_from_spec)\n",
      "       69    0.000    0.000    0.001    0.000 c:\\Users\\Florent\\AppData\\Local\\Programs\\Python\\Python38\\lib\\threading.py:505(__init__)\n",
      "        2    0.000    0.000    0.001    0.000 c:\\Users\\Florent\\AppData\\Local\\Programs\\Python\\Python38\\lib\\site-packages\\tqdm\\std.py:1264(close)\n",
      "      267    0.000    0.000    0.001    0.000 c:\\Users\\Florent\\AppData\\Local\\Programs\\Python\\Python38\\lib\\threading.py:1071(is_alive)\n",
      "        1    0.000    0.000    0.001    0.001 <frozen importlib._bootstrap_external>:1099(create_module)\n",
      "        1    0.001    0.001    0.001    0.001 {built-in method _imp.create_dynamic}\n",
      "     4812    0.001    0.000    0.001    0.000 {built-in method unicodedata.east_asian_width}\n",
      "        1    0.000    0.000    0.001    0.001 c:\\Users\\Florent\\AppData\\Local\\Programs\\Python\\Python38\\lib\\site-packages\\tqdm\\std.py:329(status_printer)\n",
      "       28    0.001    0.000    0.001    0.000 {built-in method builtins.__build_class__}\n",
      "      129    0.000    0.000    0.001    0.000 c:\\Users\\Florent\\AppData\\Local\\Programs\\Python\\Python38\\lib\\site-packages\\tqdm\\std.py:288(format_interval)\n",
      "      379    0.001    0.000    0.001    0.000 c:\\Users\\Florent\\AppData\\Local\\Programs\\Python\\Python38\\lib\\site-packages\\tqdm\\std.py:233(__call__)\n",
      "      130    0.000    0.000    0.001    0.000 c:\\Users\\Florent\\AppData\\Local\\Programs\\Python\\Python38\\lib\\site-packages\\tqdm\\utils.py:222(_is_ascii)\n",
      "       65    0.000    0.000    0.001    0.000 c:\\Users\\Florent\\AppData\\Local\\Programs\\Python\\Python38\\lib\\site-packages\\tqdm\\std.py:1445(format_dict)\n",
      "       68    0.000    0.000    0.001    0.000 c:\\Users\\Florent\\AppData\\Local\\Programs\\Python\\Python38\\lib\\site-packages\\tqdm\\std.py:104(acquire)\n",
      "       10    0.000    0.000    0.000    0.000 <frozen importlib._bootstrap_external>:90(_path_is_mode_type)\n",
      "        6    0.000    0.000    0.000    0.000 <frozen importlib._bootstrap_external>:578(_compile_bytecode)\n",
      "      151    0.000    0.000    0.000    0.000 {built-in method _thread.allocate_lock}\n",
      "        9    0.000    0.000    0.000    0.000 <frozen importlib._bootstrap_external>:99(_path_isfile)\n",
      "       69    0.000    0.000    0.000    0.000 c:\\Users\\Florent\\AppData\\Local\\Programs\\Python\\Python38\\lib\\threading.py:222(__init__)\n",
      "        6    0.000    0.000    0.000    0.000 {built-in method marshal.loads}\n",
      "        1    0.000    0.000    0.000    0.000 c:\\Users\\Florent\\AppData\\Local\\Programs\\Python\\Python38\\lib\\site-packages\\tqdm\\_monitor.py:30(__init__)\n",
      "       68    0.000    0.000    0.000    0.000 c:\\Users\\Florent\\AppData\\Local\\Programs\\Python\\Python38\\lib\\site-packages\\tqdm\\std.py:108(release)\n",
      "        1    0.000    0.000    0.000    0.000 c:\\Users\\Florent\\AppData\\Local\\Programs\\Python\\Python38\\lib\\threading.py:834(start)\n",
      "      267    0.000    0.000    0.000    0.000 c:\\Users\\Florent\\AppData\\Local\\Programs\\Python\\Python38\\lib\\threading.py:1017(_wait_for_tstate_lock)\n",
      "       65    0.000    0.000    0.000    0.000 c:\\Users\\Florent\\AppData\\Local\\Programs\\Python\\Python38\\lib\\site-packages\\tqdm\\std.py:188(__format__)\n",
      "        1    0.000    0.000    0.000    0.000 c:\\Users\\Florent\\AppData\\Local\\Programs\\Python\\Python38\\lib\\multiprocessing\\util.py:10(<module>)\n",
      "        6    0.000    0.000    0.000    0.000 <frozen importlib._bootstrap_external>:1010(path_stats)\n",
      "        6    0.000    0.000    0.000    0.000 {method 'read' of '_io.BufferedReader' objects}\n",
      "       68    0.000    0.000    0.000    0.000 {method 'acquire' of '_multiprocessing.SemLock' objects}\n",
      "        7    0.000    0.000    0.000    0.000 <frozen importlib._bootstrap>:477(_init_module_attrs)\n",
      "       64    0.000    0.000    0.000    0.000 {built-in method now}\n",
      "       65    0.000    0.000    0.000    0.000 c:\\Users\\Florent\\AppData\\Local\\Programs\\Python\\Python38\\lib\\site-packages\\tqdm\\std.py:155(__init__)\n",
      "       65    0.000    0.000    0.000    0.000 {method 'sub' of 're.Pattern' objects}\n",
      "       67    0.000    0.000    0.000    0.000 c:\\Users\\Florent\\AppData\\Local\\Programs\\Python\\Python38\\lib\\site-packages\\ipykernel\\iostream.py:436(_is_master_process)\n",
      "     1365    0.000    0.000    0.000    0.000 {built-in method builtins.ord}\n",
      "      200    0.000    0.000    0.000    0.000 c:\\Users\\Florent\\AppData\\Local\\Programs\\Python\\Python38\\lib\\site-packages\\ipykernel\\iostream.py:97(_event_pipe)\n",
      "       12    0.000    0.000    0.000    0.000 <frozen importlib._bootstrap_external>:1265(_path_importer_cache)\n",
      "        1    0.000    0.000    0.000    0.000 c:\\Users\\Florent\\AppData\\Local\\Programs\\Python\\Python38\\lib\\multiprocessing\\process.py:10(<module>)\n",
      "        1    0.000    0.000    0.000    0.000 <frozen importlib._bootstrap_external>:1479(_fill_cache)\n",
      "        1    0.000    0.000    0.000    0.000 <frozen importlib._bootstrap_external>:1252(_path_hooks)\n",
      "        1    0.000    0.000    0.000    0.000 c:\\Users\\Florent\\AppData\\Local\\Programs\\Python\\Python38\\lib\\multiprocessing\\reduction.py:10(<module>)\n",
      "      171    0.000    0.000    0.000    0.000 {built-in method builtins.hasattr}\n",
      "       68    0.000    0.000    0.000    0.000 c:\\Users\\Florent\\AppData\\Local\\Programs\\Python\\Python38\\lib\\threading.py:1306(current_thread)\n",
      "       12    0.000    0.000    0.000    0.000 <frozen importlib._bootstrap_external>:294(cache_from_source)\n",
      "       68    0.000    0.000    0.000    0.000 {method 'release' of '_multiprocessing.SemLock' objects}\n",
      "       13    0.000    0.000    0.000    0.000 <frozen importlib._bootstrap>:376(cached)\n",
      "       68    0.000    0.000    0.000    0.000 c:\\Users\\Florent\\AppData\\Local\\Programs\\Python\\Python38\\lib\\threading.py:258(_acquire_restore)\n",
      "        7    0.000    0.000    0.000    0.000 <frozen importlib._bootstrap>:147(__enter__)\n",
      "       48    0.000    0.000    0.000    0.000 <frozen importlib._bootstrap_external>:62(_path_join)\n",
      "        1    0.000    0.000    0.000    0.000 c:\\Users\\Florent\\AppData\\Local\\Programs\\Python\\Python38\\lib\\multiprocessing\\synchronize.py:186(__init__)\n",
      "        1    0.000    0.000    0.000    0.000 c:\\Users\\Florent\\AppData\\Local\\Programs\\Python\\Python38\\lib\\multiprocessing\\synchronize.py:50(__init__)\n",
      "        7    0.000    0.000    0.000    0.000 <frozen importlib._bootstrap_external>:424(_get_cached)\n",
      "      255    0.000    0.000    0.000    0.000 {built-in method time.time}\n",
      "       16    0.000    0.000    0.000    0.000 <frozen importlib._bootstrap>:157(_get_module_lock)\n",
      "        2    0.000    0.000    0.000    0.000 c:\\Users\\Florent\\AppData\\Local\\Programs\\Python\\Python38\\lib\\site-packages\\tqdm\\std.py:1285(fp_write)\n",
      "        2    0.000    0.000    0.000    0.000 c:\\Users\\Florent\\AppData\\Local\\Programs\\Python\\Python38\\lib\\codeop.py:132(__call__)\n",
      "        5    0.000    0.000    0.000    0.000 {built-in method builtins.next}\n",
      "       68    0.000    0.000    0.000    0.000 c:\\Users\\Florent\\AppData\\Local\\Programs\\Python\\Python38\\lib\\threading.py:246(__enter__)\n",
      "        1    0.000    0.000    0.000    0.000 c:\\Users\\Florent\\AppData\\Local\\Programs\\Python\\Python38\\lib\\multiprocessing\\synchronize.py:114(_make_name)\n",
      "        1    0.000    0.000    0.000    0.000 c:\\Users\\Florent\\AppData\\Local\\Programs\\Python\\Python38\\lib\\site-packages\\tqdm\\utils.py:246(_screen_shape_windows)\n",
      "        1    0.000    0.000    0.000    0.000 {built-in method nt.listdir}\n",
      "        1    0.000    0.000    0.000    0.000 c:\\Users\\Florent\\AppData\\Local\\Programs\\Python\\Python38\\lib\\tempfile.py:144(__next__)\n",
      "        2    0.000    0.000    0.000    0.000 {built-in method builtins.compile}\n",
      "       68    0.000    0.000    0.000    0.000 c:\\Users\\Florent\\AppData\\Local\\Programs\\Python\\Python38\\lib\\threading.py:249(__exit__)\n",
      "        1    0.000    0.000    0.000    0.000 <frozen importlib._bootstrap_external>:1520(path_hook_for_FileFinder)\n",
      "        1    0.000    0.000    0.000    0.000 {built-in method _thread.start_new_thread}\n",
      "        1    0.000    0.000    0.000    0.000 <frozen zipimport>:63(__init__)\n",
      "        7    0.000    0.000    0.000    0.000 <frozen importlib._bootstrap_external>:1426(_get_spec)\n",
      "       68    0.000    0.000    0.000    0.000 c:\\Users\\Florent\\AppData\\Local\\Programs\\Python\\Python38\\lib\\threading.py:261(_is_owned)\n",
      "       68    0.000    0.000    0.000    0.000 c:\\Users\\Florent\\AppData\\Local\\Programs\\Python\\Python38\\lib\\threading.py:255(_release_save)\n",
      "      269    0.000    0.000    0.000    0.000 c:\\Users\\Florent\\AppData\\Local\\Programs\\Python\\Python38\\lib\\threading.py:513(is_set)\n",
      "      323    0.000    0.000    0.000    0.000 {built-in method builtins.divmod}\n",
      "      268    0.000    0.000    0.000    0.000 {method 'append' of 'collections.deque' objects}\n",
      "       69    0.000    0.000    0.000    0.000 {method 'acquire' of '_thread.RLock' objects}\n",
      "      134    0.000    0.000    0.000    0.000 c:\\Users\\Florent\\AppData\\Local\\Programs\\Python\\Python38\\lib\\threading.py:1047(ident)\n",
      "       65    0.000    0.000    0.000    0.000 {built-in method builtins.max}\n",
      "       48    0.000    0.000    0.000    0.000 <frozen importlib._bootstrap_external>:64(<listcomp>)\n",
      "        9    0.000    0.000    0.000    0.000 <frozen importlib._bootstrap>:194(_lock_unlock_module)\n",
      "       68    0.000    0.000    0.000    0.000 {built-in method nt.getpid}\n",
      "        1    0.000    0.000    0.000    0.000 c:\\Users\\Florent\\AppData\\Local\\Programs\\Python\\Python38\\lib\\site-packages\\tqdm\\std.py:583(_decr_instances)\n",
      "       65    0.000    0.000    0.000    0.000 c:\\Users\\Florent\\AppData\\Local\\Programs\\Python\\Python38\\lib\\site-packages\\tqdm\\utils.py:57(__init__)\n",
      "        7    0.000    0.000    0.000    0.000 <frozen importlib._bootstrap>:58(__init__)\n",
      "        1    0.000    0.000    0.000    0.000 <frozen importlib._bootstrap_external>:104(_path_isdir)\n",
      "        1    0.000    0.000    0.000    0.000 c:\\Users\\Florent\\AppData\\Local\\Programs\\Python\\Python38\\lib\\threading.py:761(__init__)\n",
      "       12    0.000    0.000    0.000    0.000 <frozen importlib._bootstrap_external>:68(_path_split)\n",
      "        6    0.000    0.000    0.000    0.000 <frozen importlib._bootstrap_external>:493(_classify_pyc)\n",
      "        1    0.000    0.000    0.000    0.000 c:\\Users\\Florent\\AppData\\Local\\Programs\\Python\\Python38\\lib\\tempfile.py:133(rng)\n",
      "        7    0.000    0.000    0.000    0.000 <frozen importlib._bootstrap_external>:629(spec_from_file_location)\n",
      "       67    0.000    0.000    0.000    0.000 {method 'write' of '_io.StringIO' objects}\n",
      "      100    0.000    0.000    0.000    0.000 {built-in method _thread.get_ident}\n",
      "       16    0.000    0.000    0.000    0.000 <frozen importlib._bootstrap>:78(acquire)\n",
      "        1    0.000    0.000    0.000    0.000 c:\\Users\\Florent\\AppData\\Local\\Programs\\Python\\Python38\\lib\\tempfile.py:147(<listcomp>)\n",
      "       65    0.000    0.000    0.000    0.000 c:\\Users\\Florent\\AppData\\Local\\Programs\\Python\\Python38\\lib\\site-packages\\tqdm\\std.py:169(colour)\n",
      "       16    0.000    0.000    0.000    0.000 <frozen importlib._bootstrap>:103(release)\n",
      "       65    0.000    0.000    0.000    0.000 c:\\Users\\Florent\\AppData\\Local\\Programs\\Python\\Python38\\lib\\site-packages\\tqdm\\utils.py:61(__format__)\n",
      "        1    0.000    0.000    0.000    0.000 c:\\Users\\Florent\\AppData\\Local\\Programs\\Python\\Python38\\lib\\ctypes\\__init__.py:47(create_string_buffer)\n",
      "       18    0.000    0.000    0.000    0.000 <frozen importlib._bootstrap_external>:51(_unpack_uint32)\n",
      "        8    0.000    0.000    0.000    0.000 c:\\Users\\Florent\\AppData\\Local\\Programs\\Python\\Python38\\lib\\random.py:285(choice)\n",
      "        1    0.000    0.000    0.000    0.000 c:\\Users\\Florent\\AppData\\Local\\Programs\\Python\\Python38\\lib\\multiprocessing\\__init__.py:22(<listcomp>)\n",
      "        7    0.000    0.000    0.000    0.000 <frozen importlib._bootstrap>:151(__exit__)\n",
      "        6    0.000    0.000    0.000    0.000 <frozen importlib._bootstrap_external>:526(_validate_timestamp_pyc)\n",
      "        4    0.000    0.000    0.000    0.000 c:\\Users\\Florent\\AppData\\Local\\Programs\\Python\\Python38\\lib\\site-packages\\tqdm\\std.py:112(__enter__)\n",
      "        1    0.000    0.000    0.000    0.000 c:\\Users\\Florent\\AppData\\Local\\Programs\\Python\\Python38\\lib\\ntpath.py:516(abspath)\n",
      "       69    0.000    0.000    0.000    0.000 {method 'release' of '_thread.RLock' objects}\n",
      "        1    0.000    0.000    0.000    0.000 c:\\Users\\Florent\\AppData\\Local\\Programs\\Python\\Python38\\lib\\random.py:94(__init__)\n",
      "        1    0.000    0.000    0.000    0.000 c:\\Users\\Florent\\AppData\\Local\\Programs\\Python\\Python38\\lib\\site-packages\\tqdm\\utils.py:162(__init__)\n",
      "        1    0.000    0.000    0.000    0.000 c:\\Users\\Florent\\AppData\\Local\\Programs\\Python\\Python38\\lib\\site-packages\\tqdm\\std.py:576(_get_free_pos)\n",
      "        1    0.000    0.000    0.000    0.000 c:\\Users\\Florent\\AppData\\Local\\Programs\\Python\\Python38\\lib\\abc.py:84(__new__)\n",
      "       68    0.000    0.000    0.000    0.000 {method '__enter__' of '_thread.lock' objects}\n",
      "       38    0.000    0.000    0.000    0.000 c:\\Users\\Florent\\AppData\\Local\\Programs\\Python\\Python38\\lib\\multiprocessing\\__init__.py:23(<genexpr>)\n",
      "       72    0.000    0.000    0.000    0.000 {method 'startswith' of 'str' objects}\n",
      "        4    0.000    0.000    0.000    0.000 c:\\Users\\Florent\\AppData\\Local\\Programs\\Python\\Python38\\lib\\site-packages\\tqdm\\std.py:115(__exit__)\n",
      "        2    0.000    0.000    0.000    0.000 c:\\Users\\Florent\\AppData\\Local\\Programs\\Python\\Python38\\lib\\ctypes\\__init__.py:379(__getattr__)\n",
      "        3    0.000    0.000    0.000    0.000 c:\\Users\\Florent\\AppData\\Local\\Programs\\Python\\Python38\\lib\\_weakrefset.py:58(__iter__)\n",
      "        1    0.000    0.000    0.000    0.000 c:\\Users\\Florent\\AppData\\Local\\Programs\\Python\\Python38\\lib\\random.py:123(seed)\n",
      "        1    0.000    0.000    0.000    0.000 c:\\Users\\Florent\\AppData\\Local\\Programs\\Python\\Python38\\lib\\ntpath.py:442(normpath)\n",
      "       53    0.000    0.000    0.000    0.000 <frozen importlib._bootstrap>:222(_verbose_message)\n",
      "       68    0.000    0.000    0.000    0.000 {method 'release' of '_thread.lock' objects}\n",
      "       16    0.000    0.000    0.000    0.000 <frozen importlib._bootstrap>:389(parent)\n",
      "        1    0.000    0.000    0.000    0.000 {built-in method builtins.dir}\n",
      "       48    0.000    0.000    0.000    0.000 {method 'rpartition' of 'str' objects}\n",
      "        8    0.000    0.000    0.000    0.000 c:\\Users\\Florent\\AppData\\Local\\Programs\\Python\\Python38\\lib\\random.py:250(_randbelow_with_getrandbits)\n",
      "       65    0.000    0.000    0.000    0.000 c:\\Users\\Florent\\AppData\\Local\\Programs\\Python\\Python38\\lib\\site-packages\\tqdm\\std.py:165(colour)\n",
      "       62    0.000    0.000    0.000    0.000 {method 'join' of 'str' objects}\n",
      "        7    0.000    0.000    0.000    0.000 <frozen importlib._bootstrap>:176(cb)\n",
      "        2    0.000    0.000    0.000    0.000 c:\\Users\\Florent\\AppData\\Local\\Programs\\Python\\Python38\\lib\\contextlib.py:238(helper)\n",
      "        2    0.000    0.000    0.000    0.000 c:\\Users\\Florent\\AppData\\Local\\Programs\\Python\\Python38\\lib\\ctypes\\__init__.py:386(__getitem__)\n",
      "       68    0.000    0.000    0.000    0.000 {method '__exit__' of '_thread.lock' objects}\n",
      "        1    0.000    0.000    0.000    0.000 c:\\Users\\Florent\\AppData\\Local\\Programs\\Python\\Python38\\lib\\site-packages\\tqdm\\std.py:579(<setcomp>)\n",
      "      108    0.000    0.000    0.000    0.000 {method 'rstrip' of 'str' objects}\n",
      "        1    0.000    0.000    0.000    0.000 c:\\Users\\Florent\\AppData\\Local\\Programs\\Python\\Python38\\lib\\_weakrefset.py:106(remove)\n",
      "        1    0.000    0.000    0.000    0.000 <frozen importlib._bootstrap_external>:1394(__init__)\n",
      "        1    0.000    0.000    0.000    0.000 c:\\Users\\Florent\\AppData\\Local\\Programs\\Python\\Python38\\lib\\weakref.py:102(__init__)\n",
      "        1    0.000    0.000    0.000    0.000 {function Random.seed at 0x000001F94E86F670}\n",
      "       21    0.000    0.000    0.000    0.000 <frozen importlib._bootstrap>:867(__exit__)\n",
      "        7    0.000    0.000    0.000    0.000 <frozen importlib._bootstrap>:725(find_spec)\n",
      "       27    0.000    0.000    0.000    0.000 {method 'add' of 'set' objects}\n",
      "        1    0.000    0.000    0.000    0.000 c:\\Users\\Florent\\AppData\\Local\\Programs\\Python\\Python38\\lib\\multiprocessing\\context.py:30(BaseContext)\n",
      "        1    0.000    0.000    0.000    0.000 c:\\Users\\Florent\\AppData\\Local\\Programs\\Python\\Python38\\lib\\multiprocessing\\process.py:71(BaseProcess)\n",
      "       21    0.000    0.000    0.000    0.000 <frozen importlib._bootstrap>:863(__enter__)\n",
      "        2    0.000    0.000    0.000    0.000 c:\\Users\\Florent\\AppData\\Local\\Programs\\Python\\Python38\\lib\\contextlib.py:82(__init__)\n",
      "        1    0.000    0.000    0.000    0.000 {built-in method _abc._abc_init}\n",
      "        2    0.000    0.000    0.000    0.000 {built-in method __new__ of type object at 0x00007FFAAA483810}\n",
      "        3    0.000    0.000    0.000    0.000 {method 'remove' of 'set' objects}\n",
      "        6    0.000    0.000    0.000    0.000 <frozen importlib._bootstrap_external>:456(_check_name_wrapper)\n",
      "        1    0.000    0.000    0.000    0.000 c:\\Users\\Florent\\AppData\\Local\\Programs\\Python\\Python38\\lib\\multiprocessing\\process.py:391(__init__)\n",
      "        2    0.000    0.000    0.000    0.000 c:\\Users\\Florent\\AppData\\Local\\Programs\\Python\\Python38\\lib\\site-packages\\tqdm\\utils.py:136(disable_on_exception)\n",
      "        7    0.000    0.000    0.000    0.000 <frozen importlib._bootstrap>:800(find_spec)\n",
      "        2    0.000    0.000    0.000    0.000 c:\\Users\\Florent\\AppData\\Local\\Programs\\Python\\Python38\\lib\\_weakrefset.py:81(add)\n",
      "        6    0.000    0.000    0.000    0.000 {built-in method _imp._fix_co_filename}\n",
      "       10    0.000    0.000    0.000    0.000 <frozen importlib._bootstrap_external>:36(_relax_case)\n",
      "        1    0.000    0.000    0.000    0.000 <frozen importlib._bootstrap_external>:1508(<setcomp>)\n",
      "       12    0.000    0.000    0.000    0.000 {method 'rsplit' of 'str' objects}\n",
      "        1    0.000    0.000    0.000    0.000 <frozen importlib._bootstrap_external>:1107(exec_module)\n",
      "        8    0.000    0.000    0.000    0.000 {method 'endswith' of 'str' objects}\n",
      "        2    0.000    0.000    0.000    0.000 c:\\Users\\Florent\\AppData\\Local\\Programs\\Python\\Python38\\lib\\contextlib.py:108(__enter__)\n",
      "        1    0.000    0.000    0.000    0.000 c:\\Users\\Florent\\AppData\\Local\\Programs\\Python\\Python38\\lib\\site-packages\\tqdm\\utils.py:215(_supports_unicode)\n",
      "        2    0.000    0.000    0.000    0.000 c:\\Users\\Florent\\AppData\\Local\\Programs\\Python\\Python38\\lib\\contextlib.py:117(__exit__)\n",
      "        6    0.000    0.000    0.000    0.000 <frozen importlib._bootstrap>:35(_new_module)\n",
      "        7    0.000    0.000    0.000    0.000 <frozen importlib._bootstrap>:342(__init__)\n",
      "       44    0.000    0.000    0.000    0.000 {built-in method _imp.acquire_lock}\n",
      "        2    0.000    0.000    0.000    0.000 {built-in method _imp.is_builtin}\n",
      "       44    0.000    0.000    0.000    0.000 {built-in method _imp.release_lock}\n",
      "        2    0.000    0.000    0.000    0.000 c:\\Users\\Florent\\AppData\\Local\\Programs\\Python\\Python38\\lib\\_weakrefset.py:26(__exit__)\n",
      "        3    0.000    0.000    0.000    0.000 {method 'extend' of 'list' objects}\n",
      "       18    0.000    0.000    0.000    0.000 {built-in method from_bytes}\n",
      "        6    0.000    0.000    0.000    0.000 <frozen importlib._bootstrap_external>:939(__init__)\n",
      "        2    0.000    0.000    0.000    0.000 c:\\Users\\Florent\\AppData\\Local\\Programs\\Python\\Python38\\lib\\site-packages\\traitlets\\traitlets.py:566(__get__)\n",
      "        2    0.000    0.000    0.000    0.000 c:\\Users\\Florent\\AppData\\Local\\Programs\\Python\\Python38\\lib\\site-packages\\IPython\\core\\hooks.py:103(__call__)\n",
      "        4    0.000    0.000    0.000    0.000 c:\\Users\\Florent\\AppData\\Local\\Programs\\Python\\Python38\\lib\\site-packages\\tqdm\\utils.py:171(__eq__)\n",
      "        7    0.000    0.000    0.000    0.000 {built-in method builtins.setattr}\n",
      "        4    0.000    0.000    0.000    0.000 c:\\Users\\Florent\\AppData\\Local\\Programs\\Python\\Python38\\lib\\site-packages\\IPython\\core\\compilerop.py:166(extra_flags)\n",
      "        7    0.000    0.000    0.000    0.000 <frozen importlib._bootstrap>:143(__init__)\n",
      "        1    0.000    0.000    0.000    0.000 c:\\Users\\Florent\\AppData\\Local\\Programs\\Python\\Python38\\lib\\weakref.py:284(update)\n",
      "       21    0.000    0.000    0.000    0.000 {built-in method nt.fspath}\n",
      "        1    0.000    0.000    0.000    0.000 c:\\Users\\Florent\\AppData\\Local\\Programs\\Python\\Python38\\lib\\site-packages\\tqdm\\utils.py:105(__init__)\n",
      "        1    0.000    0.000    0.000    0.000 c:\\Users\\Florent\\AppData\\Local\\Programs\\Python\\Python38\\lib\\ntpath.py:116(splitdrive)\n",
      "        3    0.000    0.000    0.000    0.000 c:\\Users\\Florent\\AppData\\Local\\Programs\\Python\\Python38\\lib\\site-packages\\tqdm\\utils.py:101(wrapper_setattr)\n",
      "        1    0.000    0.000    0.000    0.000 C:\\Users\\Florent\\AppData\\Local\\Temp\\ipykernel_10716\\3633937949.py:5(<module>)\n",
      "        2    0.000    0.000    0.000    0.000 c:\\Users\\Florent\\AppData\\Local\\Programs\\Python\\Python38\\lib\\site-packages\\IPython\\core\\interactiveshell.py:3341(compare)\n",
      "        1    0.000    0.000    0.000    0.000 c:\\Users\\Florent\\AppData\\Local\\Programs\\Python\\Python38\\lib\\multiprocessing\\synchronize.py:360(Barrier)\n",
      "        2    0.000    0.000    0.000    0.000 c:\\Users\\Florent\\AppData\\Local\\Programs\\Python\\Python38\\lib\\_weakrefset.py:20(__enter__)\n",
      "        7    0.000    0.000    0.000    0.000 {built-in method _imp.is_frozen}\n",
      "        1    0.000    0.000    0.000    0.000 {built-in method nt.urandom}\n",
      "        1    0.000    0.000    0.000    0.000 c:\\Users\\Florent\\AppData\\Local\\Programs\\Python\\Python38\\lib\\site-packages\\tqdm\\utils.py:74(__eq__)\n",
      "        1    0.000    0.000    0.000    0.000 c:\\Users\\Florent\\AppData\\Local\\Programs\\Python\\Python38\\lib\\site-packages\\tqdm\\utils.py:201(_is_utf)\n",
      "       23    0.000    0.000    0.000    0.000 {method 'partition' of 'str' objects}\n",
      "        2    0.000    0.000    0.000    0.000 c:\\Users\\Florent\\AppData\\Local\\Programs\\Python\\Python38\\lib\\site-packages\\tqdm\\std.py:1156(__hash__)\n",
      "        1    0.000    0.000    0.000    0.000 c:\\Users\\Florent\\AppData\\Local\\Programs\\Python\\Python38\\lib\\_weakrefset.py:36(__init__)\n",
      "        1    0.000    0.000    0.000    0.000 c:\\Users\\Florent\\AppData\\Local\\Programs\\Python\\Python38\\lib\\multiprocessing\\synchronize.py:46(SemLock)\n",
      "       13    0.000    0.000    0.000    0.000 {method 'getrandbits' of '_random.Random' objects}\n",
      "        7    0.000    0.000    0.000    0.000 {method 'pop' of 'dict' objects}\n",
      "        2    0.000    0.000    0.000    0.000 c:\\Users\\Florent\\AppData\\Local\\Programs\\Python\\Python38\\lib\\site-packages\\IPython\\core\\interactiveshell.py:1278(user_global_ns)\n",
      "        3    0.000    0.000    0.000    0.000 c:\\Users\\Florent\\AppData\\Local\\Programs\\Python\\Python38\\lib\\site-packages\\tqdm\\std.py:228(__init__)\n",
      "        1    0.000    0.000    0.000    0.000 c:\\Users\\Florent\\AppData\\Local\\Programs\\Python\\Python38\\lib\\threading.py:1177(_make_invoke_excepthook)\n",
      "        1    0.000    0.000    0.000    0.000 c:\\Users\\Florent\\AppData\\Local\\Programs\\Python\\Python38\\lib\\multiprocessing\\reduction.py:33(ForkingPickler)\n",
      "        6    0.000    0.000    0.000    0.000 {method 'setter' of 'property' objects}\n",
      "        1    0.000    0.000    0.000    0.000 c:\\Users\\Florent\\AppData\\Local\\Programs\\Python\\Python38\\lib\\threading.py:1110(daemon)\n",
      "        2    0.000    0.000    0.000    0.000 c:\\Users\\Florent\\AppData\\Local\\Programs\\Python\\Python38\\lib\\site-packages\\traitlets\\traitlets.py:535(get)\n",
      "        1    0.000    0.000    0.000    0.000 c:\\Users\\Florent\\AppData\\Local\\Programs\\Python\\Python38\\lib\\multiprocessing\\reduction.py:251(AbstractReducer)\n",
      "        1    0.000    0.000    0.000    0.000 c:\\Users\\Florent\\AppData\\Local\\Programs\\Python\\Python38\\lib\\multiprocessing\\synchronize.py:90(_make_methods)\n",
      "        1    0.000    0.000    0.000    0.000 {built-in method nt.getcwd}\n",
      "        7    0.000    0.000    0.000    0.000 <frozen importlib._bootstrap>:397(has_location)\n",
      "        2    0.000    0.000    0.000    0.000 c:\\Users\\Florent\\AppData\\Local\\Programs\\Python\\Python38\\lib\\_weakrefset.py:16(__init__)\n",
      "        1    0.000    0.000    0.000    0.000 {built-in method utcfromtimestamp}\n",
      "        8    0.000    0.000    0.000    0.000 <frozen importlib._bootstrap_external>:1400(<genexpr>)\n",
      "        1    0.000    0.000    0.000    0.000 c:\\Users\\Florent\\AppData\\Local\\Programs\\Python\\Python38\\lib\\threading.py:734(_newname)\n",
      "        2    0.000    0.000    0.000    0.000 c:\\Users\\Florent\\AppData\\Local\\Programs\\Python\\Python38\\lib\\site-packages\\tqdm\\std.py:1152(_comparable)\n",
      "        1    0.000    0.000    0.000    0.000 c:\\Users\\Florent\\AppData\\Local\\Programs\\Python\\Python38\\lib\\multiprocessing\\synchronize.py:210(Condition)\n",
      "        1    0.000    0.000    0.000    0.000 c:\\Users\\Florent\\AppData\\Local\\Programs\\Python\\Python38\\lib\\multiprocessing\\context.py:226(DefaultContext)\n",
      "        1    0.000    0.000    0.000    0.000 c:\\Users\\Florent\\AppData\\Local\\Programs\\Python\\Python38\\lib\\multiprocessing\\util.py:159(Finalize)\n",
      "        6    0.000    0.000    0.000    0.000 <frozen importlib._bootstrap_external>:964(get_filename)\n",
      "        2    0.000    0.000    0.000    0.000 c:\\Users\\Florent\\AppData\\Local\\Programs\\Python\\Python38\\lib\\site-packages\\IPython\\utils\\ipstruct.py:125(__getattr__)\n",
      "        1    0.000    0.000    0.000    0.000 {built-in method nt._getfullpathname}\n",
      "        3    0.000    0.000    0.000    0.000 {method 'replace' of 'str' objects}\n",
      "        6    0.000    0.000    0.000    0.000 <frozen importlib._bootstrap_external>:774(create_module)\n",
      "        5    0.000    0.000    0.000    0.000 c:\\Users\\Florent\\AppData\\Local\\Programs\\Python\\Python38\\lib\\multiprocessing\\reduction.py:43(register)\n",
      "        1    0.000    0.000    0.000    0.000 c:\\Users\\Florent\\AppData\\Local\\Programs\\Python\\Python38\\lib\\threading.py:1095(daemon)\n",
      "        1    0.000    0.000    0.000    0.000 c:\\Users\\Florent\\AppData\\Local\\Programs\\Python\\Python38\\lib\\site-packages\\tqdm\\std.py:1146(__del__)\n",
      "        1    0.000    0.000    0.000    0.000 c:\\Users\\Florent\\AppData\\Local\\Programs\\Python\\Python38\\lib\\multiprocessing\\process.py:356(_ParentProcess)\n",
      "        1    0.000    0.000    0.000    0.000 {method 'encode' of 'str' objects}\n",
      "        1    0.000    0.000    0.000    0.000 <frozen importlib._bootstrap_external>:1088(__init__)\n",
      "        2    0.000    0.000    0.000    0.000 c:\\Users\\Florent\\AppData\\Local\\Programs\\Python\\Python38\\lib\\_weakrefset.py:52(_commit_removals)\n",
      "        1    0.000    0.000    0.000    0.000 c:\\Users\\Florent\\AppData\\Local\\Programs\\Python\\Python38\\lib\\site-packages\\tqdm\\utils.py:88(__getattr__)\n",
      "        8    0.000    0.000    0.000    0.000 {method 'bit_length' of 'int' objects}\n",
      "        1    0.000    0.000    0.000    0.000 c:\\Users\\Florent\\AppData\\Local\\Programs\\Python\\Python38\\lib\\multiprocessing\\synchronize.py:321(Event)\n",
      "        2    0.000    0.000    0.000    0.000 {built-in method _weakref.proxy}\n",
      "        2    0.000    0.000    0.000    0.000 {built-in method atexit.register}\n",
      "        1    0.000    0.000    0.000    0.000 c:\\Users\\Florent\\AppData\\Local\\Programs\\Python\\Python38\\lib\\multiprocessing\\context.py:203(reducer)\n",
      "        2    0.000    0.000    0.000    0.000 {built-in method builtins.id}\n",
      "        1    0.000    0.000    0.000    0.000 c:\\Users\\Florent\\AppData\\Local\\Programs\\Python\\Python38\\lib\\multiprocessing\\util.py:345(ForkAwareThreadLock)\n",
      "        1    0.000    0.000    0.000    0.000 c:\\Users\\Florent\\AppData\\Local\\Programs\\Python\\Python38\\lib\\site-packages\\tqdm\\std.py:100(<listcomp>)\n",
      "        1    0.000    0.000    0.000    0.000 c:\\Users\\Florent\\AppData\\Local\\Programs\\Python\\Python38\\lib\\multiprocessing\\context.py:220(Process)\n",
      "        1    0.000    0.000    0.000    0.000 c:\\Users\\Florent\\AppData\\Local\\Programs\\Python\\Python38\\lib\\multiprocessing\\context.py:321(SpawnProcess)\n",
      "        1    0.000    0.000    0.000    0.000 {method 'split' of 'str' objects}\n",
      "        1    0.000    0.000    0.000    0.000 {built-in method _imp.exec_dynamic}\n",
      "        1    0.000    0.000    0.000    0.000 c:\\Users\\Florent\\AppData\\Local\\Programs\\Python\\Python38\\lib\\multiprocessing\\context.py:229(__init__)\n",
      "        1    0.000    0.000    0.000    0.000 {built-in method builtins.min}\n",
      "        1    0.000    0.000    0.000    0.000 c:\\Users\\Florent\\AppData\\Local\\Programs\\Python\\Python38\\lib\\multiprocessing\\context.py:233(get_context)\n",
      "        1    0.000    0.000    0.000    0.000 c:\\Users\\Florent\\AppData\\Local\\Programs\\Python\\Python38\\lib\\multiprocessing\\context.py:197(get_start_method)\n",
      "        1    0.000    0.000    0.000    0.000 c:\\Users\\Florent\\AppData\\Local\\Programs\\Python\\Python38\\lib\\multiprocessing\\context.py:17(BufferTooShort)\n",
      "        1    0.000    0.000    0.000    0.000 c:\\Users\\Florent\\AppData\\Local\\Programs\\Python\\Python38\\lib\\multiprocessing\\context.py:23(AuthenticationError)\n",
      "        1    0.000    0.000    0.000    0.000 c:\\Users\\Florent\\AppData\\Local\\Programs\\Python\\Python38\\lib\\multiprocessing\\process.py:341(AuthenticationString)\n",
      "        1    0.000    0.000    0.000    0.000 c:\\Users\\Florent\\AppData\\Local\\Programs\\Python\\Python38\\lib\\multiprocessing\\synchronize.py:142(BoundedSemaphore)\n",
      "        1    0.000    0.000    0.000    0.000 c:\\Users\\Florent\\AppData\\Local\\Programs\\Python\\Python38\\lib\\multiprocessing\\util.py:362(ForkAwareLocal)\n",
      "        1    0.000    0.000    0.000    0.000 c:\\Users\\Florent\\AppData\\Local\\Programs\\Python\\Python38\\lib\\site-packages\\tqdm\\utils.py:231(_screen_shape_wrapper)\n",
      "        1    0.000    0.000    0.000    0.000 c:\\Users\\Florent\\AppData\\Local\\Programs\\Python\\Python38\\lib\\multiprocessing\\process.py:389(_MainProcess)\n",
      "        1    0.000    0.000    0.000    0.000 c:\\Users\\Florent\\AppData\\Local\\Programs\\Python\\Python38\\lib\\multiprocessing\\reduction.py:104(DupHandle)\n",
      "        1    0.000    0.000    0.000    0.000 c:\\Users\\Florent\\AppData\\Local\\Programs\\Python\\Python38\\lib\\multiprocessing\\synchronize.py:123(Semaphore)\n",
      "        1    0.000    0.000    0.000    0.000 {method 'difference' of 'set' objects}\n",
      "        1    0.000    0.000    0.000    0.000 {method 'lstrip' of 'str' objects}\n",
      "        2    0.000    0.000    0.000    0.000 c:\\Users\\Florent\\AppData\\Local\\Programs\\Python\\Python38\\lib\\site-packages\\IPython\\core\\hooks.py:168(pre_run_code_hook)\n",
      "        1    0.000    0.000    0.000    0.000 c:\\Users\\Florent\\AppData\\Local\\Programs\\Python\\Python38\\lib\\multiprocessing\\reduction.py:211(_C)\n",
      "        1    0.000    0.000    0.000    0.000 c:\\Users\\Florent\\AppData\\Local\\Programs\\Python\\Python38\\lib\\multiprocessing\\synchronize.py:159(Lock)\n",
      "        1    0.000    0.000    0.000    0.000 c:\\Users\\Florent\\AppData\\Local\\Programs\\Python\\Python38\\lib\\multiprocessing\\synchronize.py:184(RLock)\n",
      "        1    0.000    0.000    0.000    0.000 c:\\Users\\Florent\\AppData\\Local\\Programs\\Python\\Python38\\lib\\multiprocessing\\util.py:48(debug)\n",
      "        1    0.000    0.000    0.000    0.000 c:\\Users\\Florent\\AppData\\Local\\Programs\\Python\\Python38\\lib\\site-packages\\tqdm\\std.py:1300(<lambda>)\n",
      "        1    0.000    0.000    0.000    0.000 c:\\Users\\Florent\\AppData\\Local\\Programs\\Python\\Python38\\lib\\multiprocessing\\context.py:328(SpawnContext)\n",
      "        1    0.000    0.000    0.000    0.000 c:\\Users\\Florent\\AppData\\Local\\Programs\\Python\\Python38\\lib\\multiprocessing\\context.py:14(ProcessError)\n",
      "        2    0.000    0.000    0.000    0.000 {built-in method builtins.globals}\n",
      "        1    0.000    0.000    0.000    0.000 c:\\Users\\Florent\\AppData\\Local\\Programs\\Python\\Python38\\lib\\multiprocessing\\process.py:37(current_process)\n",
      "        1    0.000    0.000    0.000    0.000 c:\\Users\\Florent\\AppData\\Local\\Programs\\Python\\Python38\\lib\\multiprocessing\\context.py:20(TimeoutError)\n",
      "        1    0.000    0.000    0.000    0.000 {method 'disable' of '_lsprof.Profiler' objects}\n",
      "\n",
      "\n"
     ]
    },
    {
     "data": {
      "text/plain": [
       "<pstats.Stats at 0x1f97340c700>"
      ]
     },
     "execution_count": 6,
     "metadata": {},
     "output_type": "execute_result"
    }
   ],
   "source": [
    "stats = pstats.Stats(profiler).sort_stats(\"cumtime\")\n",
    "stats.print_stats()\n"
   ]
  },
  {
   "cell_type": "code",
   "execution_count": null,
   "metadata": {},
   "outputs": [],
   "source": [
    "motif = calcul_motifs(rayons)\n",
    "\n",
    "motif = np.sqrt(motif)\n",
    "\n",
    "image = motif_to_alpha(motif)\n",
    "plt.imsave(f\"images/caustiques Nx={Nx}.png\", image)\n"
   ]
  },
  {
   "cell_type": "markdown",
   "metadata": {},
   "source": [
    "## Affichage"
   ]
  },
  {
   "cell_type": "code",
   "execution_count": null,
   "metadata": {},
   "outputs": [
    {
     "data": {
      "image/png": "[encoded data removed]",
      "text/plain": [
       "<Figure size 432x288 with 1 Axes>"
      ]
     },
     "metadata": {
      "needs_background": "light"
     },
     "output_type": "display_data"
    },
    {
     "data": {
      "image/png": "[encoded data removed]",
      "text/plain": [
       "<Figure size 432x288 with 1 Axes>"
      ]
     },
     "metadata": {
      "needs_background": "light"
     },
     "output_type": "display_data"
    }
   ],
   "source": [
    "plot_surface(surface)\n",
    "plt.show()\n",
    "\n",
    "\n",
    "affiche_rayons(rayons, surface, save=True)\n",
    "plt.show()\n",
    "\n",
    "\n",
    "plt.imshow(motif, cmap=\"gray\")\n",
    "plt.show()\n"
   ]
  },
  {
   "cell_type": "code",
   "execution_count": null,
   "metadata": {},
   "outputs": [
    {
     "name": "stderr",
     "output_type": "stream",
     "text": [
      "Calcul des trajectoires : 100%|██████████| 127/127 [00:05<00:00, 23.68it/s]\n",
      "Calcul des trajectoires : 100%|██████████| 127/127 [00:05<00:00, 23.93it/s]\n",
      "Calcul des trajectoires : 100%|██████████| 127/127 [00:05<00:00, 24.40it/s]\n",
      "Calcul des trajectoires : 100%|██████████| 127/127 [00:05<00:00, 24.66it/s]\n",
      "Calcul des trajectoires : 100%|██████████| 127/127 [00:05<00:00, 23.88it/s]\n",
      "Calcul des trajectoires : 100%|██████████| 127/127 [00:05<00:00, 24.06it/s]\n",
      "frame:  60%|██████    | 6/10 [00:37<00:25,  6.29s/it]"
     ]
    }
   ],
   "source": [
    "\n",
    "genere_animation(surface, amplitude_fourier_plus, rayons, save_motif=True)\n"
   ]
  },
  {
   "cell_type": "code",
   "execution_count": null,
   "metadata": {},
   "outputs": [],
   "source": [
    "\n",
    "images = [Image.open(f\"Frames/frame{n}.png\") for n in range(frames)]\n",
    "\n",
    "images[0].save(f\"gif/wave Nx={Nx}.gif\", save_all=True,\n",
    "                append_images=images[1:], duration=dt*10**3, loop=0)\n",
    "    \n",
    "images = [Image.open(f\"Frames/frame {n} image.png\") for n in range(frames)]\n",
    "\n",
    "images[0].save(f\"gif/caustiques dynamique Nx={Nx}.gif\", save_all=True,\n",
    "                   append_images=images[1:], duration=dt*10**3, loop=0)\n"
   ]
  }
 ],
 "metadata": {
  "kernelspec": {
   "display_name": "Python 3.8.0 64-bit",
   "language": "python",
   "name": "python3"
  },
  "language_info": {
   "codemirror_mode": {
    "name": "ipython",
    "version": 3
   },
   "file_extension": ".py",
   "mimetype": "text/x-python",
   "name": "python",
   "nbconvert_exporter": "python",
   "pygments_lexer": "ipython3",
   "version": "3.8.0"
  },
  "orig_nbformat": 4,
  "vscode": {
   "interpreter": {
    "hash": "56f51bb93b82760bd01fcd5e4ac946f71b81d7d5a125d05b0c61841efd19ca86"
   }
  }
 },
 "nbformat": 4,
 "nbformat_minor": 2
}
